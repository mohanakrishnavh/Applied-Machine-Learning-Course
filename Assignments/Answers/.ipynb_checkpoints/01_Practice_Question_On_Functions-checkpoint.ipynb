{
 "cells": [
  {
   "cell_type": "markdown",
   "metadata": {},
   "source": [
    "# Practice Questions on Functions"
   ]
  },
  {
   "cell_type": "code",
   "execution_count": 1,
   "metadata": {},
   "outputs": [],
   "source": [
    "from typing import List"
   ]
  },
  {
   "cell_type": "markdown",
   "metadata": {},
   "source": [
    "1. Write a function that inputs a number and prints the multiplication table of that number."
   ]
  },
  {
   "cell_type": "code",
   "execution_count": 2,
   "metadata": {},
   "outputs": [
    {
     "name": "stdout",
     "output_type": "stream",
     "text": [
      "Enter the number: 12\n",
      "Enter the number of multiples to be shown: 10\n",
      "12 * 1 = 12\n",
      "12 * 2 = 24\n",
      "12 * 3 = 36\n",
      "12 * 4 = 48\n",
      "12 * 5 = 60\n",
      "12 * 6 = 72\n",
      "12 * 7 = 84\n",
      "12 * 8 = 96\n",
      "12 * 9 = 108\n",
      "12 * 10 = 120\n"
     ]
    }
   ],
   "source": [
    "def multiplication_table(number: int, n: int) -> None:    \n",
    "    if n > 0:\n",
    "        for i in range(1, n):\n",
    "            print(\"{0} * {1} = {2}\".format(number, i, number*i))\n",
    "    \n",
    "\n",
    "number = int(input(\"Enter the number: \"))\n",
    "multiples_size = int(input(\"Enter the number of multiples to be shown: \"))\n",
    "\n",
    "multiplication_table(number, multiples_size+1)"
   ]
  },
  {
   "cell_type": "markdown",
   "metadata": {},
   "source": [
    "2. Write a program to print twin primes less than 1000. If two consecutive odd numbers are\n",
    "both prime then they are known as twin primes."
   ]
  },
  {
   "cell_type": "code",
   "execution_count": 18,
   "metadata": {},
   "outputs": [
    {
     "name": "stdout",
     "output_type": "stream",
     "text": [
      "(3, 5)\n",
      "(5, 7)\n",
      "(11, 13)\n",
      "(17, 19)\n",
      "(29, 31)\n",
      "(41, 43)\n",
      "(59, 61)\n",
      "(71, 73)\n",
      "(101, 103)\n",
      "(107, 109)\n",
      "(137, 139)\n",
      "(149, 151)\n",
      "(179, 181)\n",
      "(191, 193)\n",
      "(197, 199)\n",
      "(227, 229)\n",
      "(239, 241)\n",
      "(269, 271)\n",
      "(281, 283)\n",
      "(311, 313)\n",
      "(347, 349)\n",
      "(419, 421)\n",
      "(431, 433)\n",
      "(461, 463)\n",
      "(521, 523)\n",
      "(569, 571)\n",
      "(599, 601)\n",
      "(617, 619)\n",
      "(641, 643)\n",
      "(659, 661)\n",
      "(809, 811)\n",
      "(821, 823)\n",
      "(827, 829)\n",
      "(857, 859)\n",
      "(881, 883)\n"
     ]
    }
   ],
   "source": [
    "import math\n",
    "\n",
    "def get_primes_array(n: int) -> List:\n",
    "    primes = [1]*(n+1)\n",
    "    primes[0] = 0\n",
    "    primes[1] = 0\n",
    "    for i in range(0, int(math.sqrt(n))):\n",
    "        if primes[i] == 1:\n",
    "            j = 2\n",
    "            while i*j <= n:\n",
    "                primes[i*j] = 0\n",
    "                j += 1\n",
    "    return primes\n",
    "\n",
    "def get_primes(n: int) -> int:\n",
    "    primes_array = get_primes_array(n)\n",
    "    primes = []\n",
    "    for i in range(n):\n",
    "        if primes_array[i] == 1:\n",
    "            primes.append(i)\n",
    "    return primes\n",
    "\n",
    "def twin_primes(n: int) -> List:\n",
    "    primes = get_primes(n)\n",
    "    for i in range(len(primes)-1):\n",
    "        if primes[i+1]-primes[i] == 2:\n",
    "            print('({0}, {1})'.format(primes[i], primes[i+1]))\n",
    "    \n",
    "                   \n",
    "twin_primes(1000)"
   ]
  },
  {
   "cell_type": "markdown",
   "metadata": {},
   "source": [
    "3. Write a program to find out the prime factors of a number. Example: prime factors of 56 -\n",
    "2, 2, 2, 7"
   ]
  },
  {
   "cell_type": "code",
   "execution_count": 3,
   "metadata": {},
   "outputs": [
    {
     "name": "stdout",
     "output_type": "stream",
     "text": [
      "2,2,2,7\n"
     ]
    }
   ],
   "source": [
    "def prime_factors(n: int) -> str:\n",
    "    if n < 2:\n",
    "        return ''\n",
    "    \n",
    "    factors = []\n",
    "    for i in range(2, n):\n",
    "        if n%i == 0:\n",
    "            while n%i == 0:\n",
    "                n = n/i\n",
    "                factors.append(i)\n",
    "    \n",
    "    return ','.join(str(i) for i in factors)\n",
    "\n",
    "print(prime_factors(56))"
   ]
  },
  {
   "cell_type": "markdown",
   "metadata": {},
   "source": [
    "4. Write a program to implement these formulae of permutations and combinations.\n",
    "Number of permutations of n objects taken r at a time: p(n, r) = n! / (n-r)!. Number of\n",
    "combinations of n objects taken r at a time is: c(n, r) = n! / (r!*(n-r)!) = p(n,r) / r!"
   ]
  },
  {
   "cell_type": "code",
   "execution_count": 4,
   "metadata": {},
   "outputs": [
    {
     "name": "stdout",
     "output_type": "stream",
     "text": [
      "120\n",
      "60\n",
      "10\n"
     ]
    }
   ],
   "source": [
    "factorial_map = {}\n",
    "\n",
    "def factorial(n: int) -> int:\n",
    "    if n ==0 or n == 1:\n",
    "        return 1\n",
    "    \n",
    "    if n in factorial_map:\n",
    "        return factorial_map.get(n)\n",
    "\n",
    "    factorial_map[n] = n * factorial(n-1)\n",
    "    return factorial_map.get(n)\n",
    "\n",
    "def permutations(n: int, r: int) -> int:\n",
    "    return factorial(n)//factorial(n-r)\n",
    "\n",
    "def combinations(n:int, r: int) -> int:\n",
    "    return factorial(n)//(factorial(r)*factorial(n-r))\n",
    "\n",
    "print(factorial(5))\n",
    "print(permutations(5, 3))\n",
    "print(combinations(5, 3))"
   ]
  },
  {
   "cell_type": "markdown",
   "metadata": {},
   "source": [
    "5. Write a function that converts a decimal number to binary number"
   ]
  },
  {
   "cell_type": "code",
   "execution_count": 5,
   "metadata": {},
   "outputs": [
    {
     "name": "stdout",
     "output_type": "stream",
     "text": [
      "[1, 1, 1, 1, 1, 0, 1]\n"
     ]
    }
   ],
   "source": [
    "def decimal_to_binary(n: int, base: int) -> List:\n",
    "    result = []\n",
    "    while n > 0:\n",
    "        n, remainder = divmod(n, base)\n",
    "        result.append(remainder)\n",
    "    return result[::-1]\n",
    "\n",
    "print(decimal_to_binary(125, 2))"
   ]
  },
  {
   "cell_type": "markdown",
   "metadata": {},
   "source": [
    "6. Write a function cubesum() that accepts an integer and returns the sum of the cubes of\n",
    "individual digits of that number. Use this function to make functions PrintArmstrong() and\n",
    "isArmstrong() to print Armstrong numbers and to find whether is an Armstrong number."
   ]
  },
  {
   "cell_type": "code",
   "execution_count": 6,
   "metadata": {},
   "outputs": [
    {
     "name": "stdout",
     "output_type": "stream",
     "text": [
      "1\n",
      "153\n",
      "370\n",
      "371\n",
      "407\n"
     ]
    }
   ],
   "source": [
    "def cube_sum(n: int) -> int:\n",
    "    if n == 0 or n == 1:\n",
    "        return n\n",
    "    \n",
    "    total = 0\n",
    "    while n != 0:\n",
    "        n, digit = divmod(n, 10)\n",
    "        total += digit**3\n",
    "    return total\n",
    "    \n",
    "def is_armstrong(n: int) -> int:\n",
    "    return n == cube_sum(n)\n",
    "\n",
    "def print_armstrong(n: int) -> None:\n",
    "    for i in range(1, n):\n",
    "        if is_armstrong(i):\n",
    "            print(i)\n",
    "            \n",
    "\n",
    "print_armstrong(1000)"
   ]
  },
  {
   "cell_type": "markdown",
   "metadata": {},
   "source": [
    "7. Write a function prodDigits() that inputs a number and returns the product of digits of that\n",
    "number."
   ]
  },
  {
   "cell_type": "code",
   "execution_count": 14,
   "metadata": {},
   "outputs": [
    {
     "name": "stdout",
     "output_type": "stream",
     "text": [
      "0\n",
      "0\n",
      "7\n",
      "140\n"
     ]
    }
   ],
   "source": [
    "def prod_digits(n: int) -> int:\n",
    "    if n == 0 or n == 1:\n",
    "        return n\n",
    "    \n",
    "    product = 1\n",
    "    while n != 0:\n",
    "        n, digit = divmod(n, 10)\n",
    "        if digit == 0:\n",
    "            return 0\n",
    "        product *= digit\n",
    "    return product\n",
    "\n",
    "print(prod_digits(10))\n",
    "print(prod_digits(0))\n",
    "print(prod_digits(7))\n",
    "print(prod_digits(547))"
   ]
  },
  {
   "cell_type": "code",
   "execution_count": null,
   "metadata": {},
   "outputs": [],
   "source": []
  }
 ],
 "metadata": {
  "kernelspec": {
   "display_name": "Python 3",
   "language": "python",
   "name": "python3"
  },
  "language_info": {
   "codemirror_mode": {
    "name": "ipython",
    "version": 3
   },
   "file_extension": ".py",
   "mimetype": "text/x-python",
   "name": "python",
   "nbconvert_exporter": "python",
   "pygments_lexer": "ipython3",
   "version": "3.6.7"
  }
 },
 "nbformat": 4,
 "nbformat_minor": 4
}
