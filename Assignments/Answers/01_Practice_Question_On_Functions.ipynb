{
 "cells": [
  {
   "cell_type": "markdown",
   "metadata": {},
   "source": [
    "# Practice Questions on Functions"
   ]
  },
  {
   "cell_type": "code",
   "execution_count": 1,
   "metadata": {},
   "outputs": [],
   "source": [
    "from typing import List"
   ]
  },
  {
   "cell_type": "markdown",
   "metadata": {},
   "source": [
    "1. Write a function that inputs a number and prints the multiplication table of that number."
   ]
  },
  {
   "cell_type": "code",
   "execution_count": 9,
   "metadata": {},
   "outputs": [
    {
     "name": "stdout",
     "output_type": "stream",
     "text": [
      "Enter the number: 7\n",
      "Enter the number of multiples to be shown: 11\n",
      "7 * 1 = 7\n",
      "7 * 2 = 14\n",
      "7 * 3 = 21\n",
      "7 * 4 = 28\n",
      "7 * 5 = 35\n",
      "7 * 6 = 42\n",
      "7 * 7 = 49\n",
      "7 * 8 = 56\n",
      "7 * 9 = 63\n",
      "7 * 10 = 70\n",
      "7 * 11 = 77\n"
     ]
    }
   ],
   "source": [
    "def multiplication_table(number: int, n: int) -> None:    \n",
    "    if n > 0:\n",
    "        for i in range(1, n):\n",
    "            print(\"{0} * {1} = {2}\".format(number, i, number*i))\n",
    "    \n",
    "\n",
    "number = int(input(\"Enter the number: \"))\n",
    "multiples_size = int(input(\"Enter the number of multiples to be shown: \"))\n",
    "\n",
    "multiplication_table(number, multiples_size+1)"
   ]
  },
  {
   "cell_type": "markdown",
   "metadata": {},
   "source": [
    "2. Write a program to print twin primes less than 1000. If two consecutive odd numbers are\n",
    "both prime then they are known as twin primes."
   ]
  },
  {
   "cell_type": "code",
   "execution_count": null,
   "metadata": {},
   "outputs": [],
   "source": []
  },
  {
   "cell_type": "markdown",
   "metadata": {},
   "source": [
    "3. Write a program to find out the prime factors of a number. Example: prime factors of 56 -\n",
    "2, 2, 2, 7"
   ]
  },
  {
   "cell_type": "code",
   "execution_count": null,
   "metadata": {},
   "outputs": [],
   "source": []
  },
  {
   "cell_type": "markdown",
   "metadata": {},
   "source": [
    "4. Write a program to implement these formulae of permutations and combinations.\n",
    "Number of permutations of n objects taken r at a time: p(n, r) = n! / (n-r)!. Number of\n",
    "combinations of n objects taken r at a time is: c(n, r) = n! / (r!*(n-r)!) = p(n,r) / r!"
   ]
  },
  {
   "cell_type": "code",
   "execution_count": 12,
   "metadata": {},
   "outputs": [
    {
     "name": "stdout",
     "output_type": "stream",
     "text": [
      "120\n",
      "60\n",
      "10\n"
     ]
    }
   ],
   "source": [
    "factorial_map = {}\n",
    "\n",
    "def factorial(n: int) -> int:\n",
    "    if n ==0 or n == 1:\n",
    "        return 1\n",
    "    \n",
    "    if n in factorial_map:\n",
    "        return factorial_map.get(n)\n",
    "\n",
    "    factorial_map[n] = n * factorial(n-1)\n",
    "    return factorial_map.get(n)\n",
    "\n",
    "def permutations(n: int, r: int) -> int:\n",
    "    return factorial(n)//factorial(n-r)\n",
    "\n",
    "def combinations(n:int, r: int) -> int:\n",
    "    return factorial(n)//(factorial(r)*factorial(n-r))\n",
    "\n",
    "print(factorial(5))\n",
    "print(permutations(5, 3))\n",
    "print(combinations(5, 3))"
   ]
  },
  {
   "cell_type": "markdown",
   "metadata": {},
   "source": [
    "5. Write a function that converts a decimal number to binary number"
   ]
  },
  {
   "cell_type": "code",
   "execution_count": null,
   "metadata": {},
   "outputs": [],
   "source": []
  },
  {
   "cell_type": "markdown",
   "metadata": {},
   "source": [
    "6. Write a function cubesum() that accepts an integer and returns the sum of the cubes of\n",
    "individual digits of that number. Use this function to make functions PrintArmstrong() and\n",
    "isArmstrong() to print Armstrong numbers and to find whether is an Armstrong number."
   ]
  },
  {
   "cell_type": "code",
   "execution_count": 17,
   "metadata": {},
   "outputs": [
    {
     "name": "stdout",
     "output_type": "stream",
     "text": [
      "1\n",
      "153\n",
      "370\n",
      "371\n",
      "407\n"
     ]
    }
   ],
   "source": [
    "def cube_sum(n: int) -> int:\n",
    "    if n == 0 or n == 1:\n",
    "        return n\n",
    "    \n",
    "    total = 0\n",
    "    while n != 0:\n",
    "        n, digit = divmod(n, 10)\n",
    "        total += digit**3\n",
    "    return total\n",
    "    \n",
    "def is_armstrong(n: int) -> int:\n",
    "    return n == cube_sum(n)\n",
    "\n",
    "def print_armstrong(n: int) -> None:\n",
    "    for i in range(1, n):\n",
    "        if is_armstrong(i):\n",
    "            print(i)\n",
    "            \n",
    "\n",
    "print_armstrong(1000)"
   ]
  },
  {
   "cell_type": "markdown",
   "metadata": {},
   "source": [
    "7. Write a function prodDigits() that inputs a number and returns the product of digits of that\n",
    "number."
   ]
  },
  {
   "cell_type": "code",
   "execution_count": 14,
   "metadata": {},
   "outputs": [
    {
     "name": "stdout",
     "output_type": "stream",
     "text": [
      "0\n",
      "0\n",
      "7\n",
      "140\n"
     ]
    }
   ],
   "source": [
    "def prod_digits(n: int) -> int:\n",
    "    if n == 0 or n == 1:\n",
    "        return n\n",
    "    \n",
    "    product = 1\n",
    "    while n != 0:\n",
    "        n, digit = divmod(n, 10)\n",
    "        if digit == 0:\n",
    "            return 0\n",
    "        product *= digit\n",
    "    return product\n",
    "\n",
    "print(prod_digits(10))\n",
    "print(prod_digits(0))\n",
    "print(prod_digits(7))\n",
    "print(prod_digits(547))"
   ]
  },
  {
   "cell_type": "code",
   "execution_count": null,
   "metadata": {},
   "outputs": [],
   "source": []
  }
 ],
 "metadata": {
  "kernelspec": {
   "display_name": "Python 3",
   "language": "python",
   "name": "python3"
  },
  "language_info": {
   "codemirror_mode": {
    "name": "ipython",
    "version": 3
   },
   "file_extension": ".py",
   "mimetype": "text/x-python",
   "name": "python",
   "nbconvert_exporter": "python",
   "pygments_lexer": "ipython3",
   "version": "3.6.7"
  }
 },
 "nbformat": 4,
 "nbformat_minor": 4
}
